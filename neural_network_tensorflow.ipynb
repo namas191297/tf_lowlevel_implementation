{
 "cells": [
  {
   "cell_type": "code",
   "execution_count": 1,
   "metadata": {},
   "outputs": [],
   "source": [
    "import tensorflow as tf"
   ]
  },
  {
   "cell_type": "code",
   "execution_count": 2,
   "metadata": {},
   "outputs": [],
   "source": [
    "# Defining variables for the neural network\n",
    "X = tf.Variable(tf.random.normal([4,20]), tf.float32)\n",
    "W1 = tf.Variable(tf.random.normal([5,4]), tf.float32)\n",
    "b1 = tf.Variable(tf.random.normal([5,1]), tf.float32)\n",
    "W2 = tf.Variable(tf.random.normal([1,5]), tf.float32)\n",
    "b2 = tf.Variable(tf.random.normal([1,20]), tf.float32)\n",
    "Y = tf.Variable([[1,0,0,1,1,0,0,1,1,1,0,1,0,0,1,1,0,1,1,0]])"
   ]
  },
  {
   "cell_type": "code",
   "execution_count": 3,
   "metadata": {},
   "outputs": [],
   "source": [
    "# Defining Forward propogation of a neural network\n",
    "def feed_forward(X, W1, b1, W2, b2):\n",
    "    Z1 = tf.add(tf.matmul(W1, X), b1)\n",
    "    A1 = tf.keras.activations.sigmoid(Z1)\n",
    "    Z2 = tf.add(tf.matmul(W2, A1), b2)\n",
    "    A2 = tf.keras.activations.sigmoid(Z2)\n",
    "    return A2"
   ]
  },
  {
   "cell_type": "code",
   "execution_count": 4,
   "metadata": {},
   "outputs": [],
   "source": [
    "# Defining a loss function for the NN\n",
    "def loss_function(X, W1, b1, W2, b2, Y):\n",
    "    bce = tf.keras.losses.BinaryCrossentropy()\n",
    "    predictions = feed_forward(X, W1, b1, W2, b2)\n",
    "    loss = bce(Y, predictions)\n",
    "    return loss"
   ]
  },
  {
   "cell_type": "code",
   "execution_count": 5,
   "metadata": {},
   "outputs": [],
   "source": [
    "# Initialize the optimizer\n",
    "opt = tf.keras.optimizers.Adam(0.5)"
   ]
  },
  {
   "cell_type": "code",
   "execution_count": 8,
   "metadata": {},
   "outputs": [],
   "source": [
    "# Defining the training function\n",
    "def train(epochs=100):\n",
    "    for i in range(epochs):\n",
    "        opt.minimize(lambda: loss_function(X,W1,b1,W2,b2,Y), var_list = [W1,b1,W2,b2])\n",
    "        loss = loss_function(X,W1,b1,W2,b2,Y)\n",
    "        if i%10 == 0:\n",
    "            print(f'Epoch {i+10} : Loss:{loss}')"
   ]
  },
  {
   "cell_type": "code",
   "execution_count": 9,
   "metadata": {},
   "outputs": [
    {
     "name": "stdout",
     "output_type": "stream",
     "text": [
      "Epoch 10 : Loss:0.000565712689422071\n",
      "Epoch 20 : Loss:0.0005322526558302343\n",
      "Epoch 30 : Loss:0.0005020604585297406\n",
      "Epoch 40 : Loss:0.0004745476762764156\n",
      "Epoch 50 : Loss:0.000449341197963804\n",
      "Epoch 60 : Loss:0.0004261483845766634\n",
      "Epoch 70 : Loss:0.0004047483089379966\n",
      "Epoch 80 : Loss:0.00038491719169542193\n",
      "Epoch 90 : Loss:0.00036649988032877445\n",
      "Epoch 100 : Loss:0.0003493590629659593\n"
     ]
    }
   ],
   "source": [
    "train(100)"
   ]
  }
 ],
 "metadata": {
  "kernelspec": {
   "display_name": "Python 3",
   "language": "python",
   "name": "python3"
  },
  "language_info": {
   "codemirror_mode": {
    "name": "ipython",
    "version": 3
   },
   "file_extension": ".py",
   "mimetype": "text/x-python",
   "name": "python",
   "nbconvert_exporter": "python",
   "pygments_lexer": "ipython3",
   "version": "3.7.6"
  }
 },
 "nbformat": 4,
 "nbformat_minor": 4
}
