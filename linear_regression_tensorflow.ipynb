{
 "cells": [
  {
   "cell_type": "code",
   "execution_count": 1,
   "metadata": {},
   "outputs": [],
   "source": [
    "import tensorflow as tf"
   ]
  },
  {
   "cell_type": "code",
   "execution_count": 2,
   "metadata": {},
   "outputs": [],
   "source": [
    "# Initialize variables to be used for multi-variate linear regression\n",
    "X = tf.Variable(tf.random.uniform([50,10], maxval=100))\n",
    "W = tf.Variable(tf.random.normal([1,10]))\n",
    "b = tf.Variable(tf.random.normal([1]))\n",
    "true_labels = tf.Variable(tf.random.uniform([50,1], maxval=200))"
   ]
  },
  {
   "cell_type": "code",
   "execution_count": 3,
   "metadata": {},
   "outputs": [],
   "source": [
    "# Define the linear_regression function\n",
    "def linear_regression(X, W, b):\n",
    "    return tf.matmul(X, tf.transpose(W)) + b"
   ]
  },
  {
   "cell_type": "code",
   "execution_count": 4,
   "metadata": {},
   "outputs": [],
   "source": [
    "# Define the loss\n",
    "def loss_function(X, W, b, true_labels):\n",
    "    predictions = linear_regression(X, W, b)\n",
    "    loss = tf.keras.losses.mse(true_labels, predictions)\n",
    "    return loss"
   ]
  },
  {
   "cell_type": "code",
   "execution_count": 5,
   "metadata": {},
   "outputs": [],
   "source": [
    "# Initialize optimizer\n",
    "opt = tf.keras.optimizers.Adam(0.5)"
   ]
  },
  {
   "cell_type": "code",
   "execution_count": 11,
   "metadata": {},
   "outputs": [],
   "source": [
    "# Define the training process\n",
    "def train(epochs=1000):\n",
    "    for j in range(epochs):\n",
    "        opt.minimize(lambda: loss_function(X, W, b, true_labels), var_list=[W, b])\n",
    "        print(f'Epoch:{j+1}, Loss:{tf.reduce_sum(loss_function(X,W,b,true_labels)).numpy()}')"
   ]
  },
  {
   "cell_type": "code",
   "execution_count": 12,
   "metadata": {},
   "outputs": [
    {
     "name": "stdout",
     "output_type": "stream",
     "text": [
      "Epoch:1, Loss:182448.734375\n",
      "Epoch:2, Loss:182408.015625\n",
      "Epoch:3, Loss:182367.25\n",
      "Epoch:4, Loss:182326.421875\n",
      "Epoch:5, Loss:182285.546875\n",
      "Epoch:6, Loss:182244.609375\n",
      "Epoch:7, Loss:182203.609375\n",
      "Epoch:8, Loss:182162.546875\n",
      "Epoch:9, Loss:182121.453125\n",
      "Epoch:10, Loss:182080.28125\n",
      "Epoch:11, Loss:182039.0625\n",
      "Epoch:12, Loss:181997.796875\n",
      "Epoch:13, Loss:181956.46875\n",
      "Epoch:14, Loss:181915.09375\n",
      "Epoch:15, Loss:181873.65625\n",
      "Epoch:16, Loss:181832.1875\n",
      "Epoch:17, Loss:181790.640625\n",
      "Epoch:18, Loss:181749.078125\n",
      "Epoch:19, Loss:181707.4375\n",
      "Epoch:20, Loss:181665.765625\n",
      "Epoch:21, Loss:181624.015625\n",
      "Epoch:22, Loss:181582.265625\n",
      "Epoch:23, Loss:181540.421875\n",
      "Epoch:24, Loss:181498.5625\n",
      "Epoch:25, Loss:181456.640625\n",
      "Epoch:26, Loss:181414.671875\n",
      "Epoch:27, Loss:181372.65625\n",
      "Epoch:28, Loss:181330.59375\n",
      "Epoch:29, Loss:181288.5\n",
      "Epoch:30, Loss:181246.34375\n",
      "Epoch:31, Loss:181204.15625\n",
      "Epoch:32, Loss:181161.90625\n",
      "Epoch:33, Loss:181119.625\n",
      "Epoch:34, Loss:181077.3125\n",
      "Epoch:35, Loss:181034.953125\n",
      "Epoch:36, Loss:180992.546875\n",
      "Epoch:37, Loss:180950.09375\n",
      "Epoch:38, Loss:180907.625\n",
      "Epoch:39, Loss:180865.0625\n",
      "Epoch:40, Loss:180822.5\n",
      "Epoch:41, Loss:180779.90625\n",
      "Epoch:42, Loss:180737.25\n",
      "Epoch:43, Loss:180694.5625\n",
      "Epoch:44, Loss:180651.84375\n",
      "Epoch:45, Loss:180609.078125\n",
      "Epoch:46, Loss:180566.28125\n",
      "Epoch:47, Loss:180523.4375\n",
      "Epoch:48, Loss:180480.5625\n",
      "Epoch:49, Loss:180437.671875\n",
      "Epoch:50, Loss:180394.734375\n",
      "Epoch:51, Loss:180351.75\n",
      "Epoch:52, Loss:180308.734375\n",
      "Epoch:53, Loss:180265.671875\n",
      "Epoch:54, Loss:180222.59375\n",
      "Epoch:55, Loss:180179.5\n",
      "Epoch:56, Loss:180136.34375\n",
      "Epoch:57, Loss:180093.171875\n",
      "Epoch:58, Loss:180049.96875\n",
      "Epoch:59, Loss:180006.71875\n",
      "Epoch:60, Loss:179963.4375\n",
      "Epoch:61, Loss:179920.15625\n",
      "Epoch:62, Loss:179876.8125\n",
      "Epoch:63, Loss:179833.4375\n",
      "Epoch:64, Loss:179790.046875\n",
      "Epoch:65, Loss:179746.625\n",
      "Epoch:66, Loss:179703.1875\n",
      "Epoch:67, Loss:179659.6875\n",
      "Epoch:68, Loss:179616.1875\n",
      "Epoch:69, Loss:179572.640625\n",
      "Epoch:70, Loss:179529.09375\n",
      "Epoch:71, Loss:179485.5\n",
      "Epoch:72, Loss:179441.875\n",
      "Epoch:73, Loss:179398.234375\n",
      "Epoch:74, Loss:179354.578125\n",
      "Epoch:75, Loss:179310.890625\n",
      "Epoch:76, Loss:179267.15625\n",
      "Epoch:77, Loss:179223.421875\n",
      "Epoch:78, Loss:179179.65625\n",
      "Epoch:79, Loss:179135.875\n",
      "Epoch:80, Loss:179092.0625\n",
      "Epoch:81, Loss:179048.234375\n",
      "Epoch:82, Loss:179004.390625\n",
      "Epoch:83, Loss:178960.5\n",
      "Epoch:84, Loss:178916.59375\n",
      "Epoch:85, Loss:178872.703125\n",
      "Epoch:86, Loss:178828.75\n",
      "Epoch:87, Loss:178784.796875\n",
      "Epoch:88, Loss:178740.8125\n",
      "Epoch:89, Loss:178696.796875\n",
      "Epoch:90, Loss:178652.78125\n",
      "Epoch:91, Loss:178608.75\n",
      "Epoch:92, Loss:178564.6875\n",
      "Epoch:93, Loss:178520.609375\n",
      "Epoch:94, Loss:178476.53125\n",
      "Epoch:95, Loss:178432.421875\n",
      "Epoch:96, Loss:178388.296875\n",
      "Epoch:97, Loss:178344.140625\n",
      "Epoch:98, Loss:178299.96875\n",
      "Epoch:99, Loss:178255.8125\n",
      "Epoch:100, Loss:178211.625\n"
     ]
    }
   ],
   "source": [
    "# Train the model\n",
    "train(100)"
   ]
  },
  {
   "cell_type": "code",
   "execution_count": null,
   "metadata": {},
   "outputs": [],
   "source": []
  }
 ],
 "metadata": {
  "kernelspec": {
   "display_name": "Python 3",
   "language": "python",
   "name": "python3"
  },
  "language_info": {
   "codemirror_mode": {
    "name": "ipython",
    "version": 3
   },
   "file_extension": ".py",
   "mimetype": "text/x-python",
   "name": "python",
   "nbconvert_exporter": "python",
   "pygments_lexer": "ipython3",
   "version": "3.7.6"
  }
 },
 "nbformat": 4,
 "nbformat_minor": 2
}
